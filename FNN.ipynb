{
  "nbformat": 4,
  "nbformat_minor": 0,
  "metadata": {
    "colab": {
      "provenance": []
    },
    "kernelspec": {
      "name": "python3",
      "display_name": "Python 3"
    },
    "language_info": {
      "name": "python"
    }
  },
  "cells": [
    {
      "cell_type": "code",
      "execution_count": 114,
      "metadata": {
        "colab": {
          "base_uri": "https://localhost:8080/"
        },
        "id": "VAkyH7TUOtQp",
        "outputId": "ff97954c-b581-48bd-fc3d-4037574b23e6"
      },
      "outputs": [
        {
          "output_type": "stream",
          "name": "stdout",
          "text": [
            "Looking in indexes: https://pypi.org/simple, https://us-python.pkg.dev/colab-wheels/public/simple/\n",
            "Requirement already satisfied: wandb in /usr/local/lib/python3.8/dist-packages (0.13.10)\n",
            "Requirement already satisfied: requests<3,>=2.0.0 in /usr/local/lib/python3.8/dist-packages (from wandb) (2.25.1)\n",
            "Requirement already satisfied: appdirs>=1.4.3 in /usr/local/lib/python3.8/dist-packages (from wandb) (1.4.4)\n",
            "Requirement already satisfied: docker-pycreds>=0.4.0 in /usr/local/lib/python3.8/dist-packages (from wandb) (0.4.0)\n",
            "Requirement already satisfied: pathtools in /usr/local/lib/python3.8/dist-packages (from wandb) (0.1.2)\n",
            "Requirement already satisfied: setproctitle in /usr/local/lib/python3.8/dist-packages (from wandb) (1.3.2)\n",
            "Requirement already satisfied: GitPython>=1.0.0 in /usr/local/lib/python3.8/dist-packages (from wandb) (3.1.31)\n",
            "Requirement already satisfied: Click!=8.0.0,>=7.0 in /usr/local/lib/python3.8/dist-packages (from wandb) (7.1.2)\n",
            "Requirement already satisfied: typing-extensions in /usr/local/lib/python3.8/dist-packages (from wandb) (4.5.0)\n",
            "Requirement already satisfied: psutil>=5.0.0 in /usr/local/lib/python3.8/dist-packages (from wandb) (5.4.8)\n",
            "Requirement already satisfied: PyYAML in /usr/local/lib/python3.8/dist-packages (from wandb) (6.0)\n",
            "Requirement already satisfied: setuptools in /usr/local/lib/python3.8/dist-packages (from wandb) (57.4.0)\n",
            "Requirement already satisfied: protobuf!=4.21.0,<5,>=3.12.0 in /usr/local/lib/python3.8/dist-packages (from wandb) (3.19.6)\n",
            "Requirement already satisfied: sentry-sdk>=1.0.0 in /usr/local/lib/python3.8/dist-packages (from wandb) (1.15.0)\n",
            "Requirement already satisfied: six>=1.4.0 in /usr/local/lib/python3.8/dist-packages (from docker-pycreds>=0.4.0->wandb) (1.15.0)\n",
            "Requirement already satisfied: gitdb<5,>=4.0.1 in /usr/local/lib/python3.8/dist-packages (from GitPython>=1.0.0->wandb) (4.0.10)\n",
            "Requirement already satisfied: chardet<5,>=3.0.2 in /usr/local/lib/python3.8/dist-packages (from requests<3,>=2.0.0->wandb) (4.0.0)\n",
            "Requirement already satisfied: idna<3,>=2.5 in /usr/local/lib/python3.8/dist-packages (from requests<3,>=2.0.0->wandb) (2.10)\n",
            "Requirement already satisfied: certifi>=2017.4.17 in /usr/local/lib/python3.8/dist-packages (from requests<3,>=2.0.0->wandb) (2022.12.7)\n",
            "Requirement already satisfied: urllib3<1.27,>=1.21.1 in /usr/local/lib/python3.8/dist-packages (from requests<3,>=2.0.0->wandb) (1.26.14)\n",
            "Requirement already satisfied: smmap<6,>=3.0.1 in /usr/local/lib/python3.8/dist-packages (from gitdb<5,>=4.0.1->GitPython>=1.0.0->wandb) (5.0.0)\n"
          ]
        }
      ],
      "source": [
        "!pip install wandb"
      ]
    },
    {
      "cell_type": "code",
      "source": [
        "import numpy as np\n",
        "import wandb\n",
        "from keras.datasets import fashion_mnist\n",
        "from sklearn.model_selection import train_test_split\n",
        "import random"
      ],
      "metadata": {
        "id": "GgO79CeLOxyQ"
      },
      "execution_count": 258,
      "outputs": []
    },
    {
      "cell_type": "code",
      "source": [
        "(X,y),(X_test,y_test)=fashion_mnist.load_data()"
      ],
      "metadata": {
        "id": "CBclvrI1Qnhb"
      },
      "execution_count": 259,
      "outputs": []
    },
    {
      "cell_type": "code",
      "source": [
        "X.shape\n",
        "\n",
        "## X and X_test to be reshaped to (60000, 784(28x28)) array "
      ],
      "metadata": {
        "colab": {
          "base_uri": "https://localhost:8080/"
        },
        "id": "tATh7ojTjoOT",
        "outputId": "a5aaa4db-84c8-4952-ccd3-63e9a62cf9cd"
      },
      "execution_count": 260,
      "outputs": [
        {
          "output_type": "execute_result",
          "data": {
            "text/plain": [
              "(60000, 28, 28)"
            ]
          },
          "metadata": {},
          "execution_count": 260
        }
      ]
    },
    {
      "cell_type": "code",
      "source": [
        "num_features=784\n",
        "num_classes=np.max(y)+1"
      ],
      "metadata": {
        "id": "4-5g9X-Zj2Jo"
      },
      "execution_count": 261,
      "outputs": []
    },
    {
      "cell_type": "code",
      "source": [
        "# Reshaping the training and test feature data to a 2-D array\n",
        "X=np.reshape(X,(X.shape[0],784))\n",
        "X_test=np.reshape(X_test,(X_test.shape[0],784))\n",
        "\n",
        "# Nomrlaizing the pixel \n",
        "X=X/255\n",
        "X_test=X_test/255"
      ],
      "metadata": {
        "id": "isrseNsWQ_xZ"
      },
      "execution_count": 262,
      "outputs": []
    },
    {
      "cell_type": "code",
      "source": [
        "### One hot encode the Class_labels (y & y_test)\n",
        "def one_hot_encode(labels):\n",
        "  z=np.zeros((len(labels),10))\n",
        "  for i in range(0,len(labels)):\n",
        "    z[i,labels[i]]=1  \n",
        "  return z\n",
        "\n",
        "y=one_hot_encode(y)\n",
        "y_test=one_hot_encode(y_test)"
      ],
      "metadata": {
        "id": "HLjO8FL4bmEs"
      },
      "execution_count": 263,
      "outputs": []
    },
    {
      "cell_type": "code",
      "source": [
        "y.shape"
      ],
      "metadata": {
        "colab": {
          "base_uri": "https://localhost:8080/"
        },
        "id": "BBEHg8GLbXVe",
        "outputId": "ecdab933-1a0b-4ef1-c6fd-23a23d54f1f7"
      },
      "execution_count": 124,
      "outputs": [
        {
          "output_type": "execute_result",
          "data": {
            "text/plain": [
              "(60000, 10)"
            ]
          },
          "metadata": {},
          "execution_count": 124
        }
      ]
    },
    {
      "cell_type": "code",
      "source": [
        "## Splitting data to train and validation data\n",
        "\n",
        "X_train,X_val,y_train,y_val=train_test_split(X,y,test_size=0.1,random_state=123)"
      ],
      "metadata": {
        "id": "hyOj73uha2Sx"
      },
      "execution_count": 314,
      "outputs": []
    },
    {
      "cell_type": "code",
      "source": [
        "X_train=X_train.T"
      ],
      "metadata": {
        "id": "Gmn17jobm9f9"
      },
      "execution_count": 304,
      "outputs": []
    },
    {
      "cell_type": "code",
      "source": [
        "X_train[:,0].shape"
      ],
      "metadata": {
        "colab": {
          "base_uri": "https://localhost:8080/"
        },
        "id": "hKRLcUnQqGaK",
        "outputId": "9d221f73-a929-48fb-8a2d-c0410d3c8209"
      },
      "execution_count": 240,
      "outputs": [
        {
          "output_type": "execute_result",
          "data": {
            "text/plain": [
              "(784,)"
            ]
          },
          "metadata": {},
          "execution_count": 240
        }
      ]
    },
    {
      "cell_type": "code",
      "source": [
        "## Number of samples in each of training, validation and test set\n",
        "\n",
        "no_sample_train=X_train.shape[0]\n",
        "no_sample_val=X_val.shape[0]\n",
        "no_sample_test=X_test.shape[0]"
      ],
      "metadata": {
        "id": "Ek4Vuo7eiIoY"
      },
      "execution_count": null,
      "outputs": []
    },
    {
      "cell_type": "code",
      "source": [
        "#### Activation functions and their derivatives\n",
        "\n",
        "def sigmoid(a):\n",
        "  return 1./(1.+np.exp(-a))\n",
        "\n",
        "def sigmoid_derivative(a):\n",
        "  return sigmoid(a)*(1-sigmoid(a))\n",
        "\n",
        "def tanh(a):\n",
        "  return np.tanh(a)\n",
        "\n",
        "def tanh_derivative(a):\n",
        "  return 1-np.power(tanh(a),2)\n",
        "\n",
        "def relu(a):\n",
        "  return np.max([0,a])\n",
        "\n",
        "def derivative_relu(a):\n",
        "  if relu(a)<0:\n",
        "    return 0\n",
        "  else:\n",
        "    return 1\n",
        "\n",
        "def identity(a):\n",
        "  return a\n",
        "\n",
        "def derivative_identity(a):\n",
        "  return 1\n",
        "\n",
        "def softmax(a):\n",
        "  #----\n",
        "  ## a-> np.array \n",
        "  #----\n",
        "  return np.exp(a)/(np.sum(np.exp(a),axis=0))\n",
        "\n",
        "def derivative_softmax(a):\n",
        "  return softmax(a)*(1-softmax(a))\n"
      ],
      "metadata": {
        "id": "3BKXQ9SnkfR1"
      },
      "execution_count": 216,
      "outputs": []
    },
    {
      "cell_type": "code",
      "source": [
        "## Loss function\n",
        "def loss_computation(y_true,y_hat,loss,batch_size,lambda_val,param):\n",
        "\n",
        "\n",
        "  \n",
        "  if loss=='cross_entropy':\n",
        "    J=-(np.sum(np.multiply(y_true,np.log(y_hat))))/batch_size\n",
        "     \n",
        "  elif loss=='mse':\n",
        "    J=(1/2*(batch_size))*(np.sum((y_true-y_hat)**2))\n",
        "\n",
        "  # L2 Regularisation\n",
        "  sum_weight=0\n",
        "  for i in range(1,(len(param)//2)+1):\n",
        "    sum_weight+=np.sum(np.power(param['W_'+str(i)],2))\n",
        "  \n",
        "  J=J+(lambda_val/(2*batch_size))*sum_weight\n",
        "  \n",
        "  \n",
        "\n",
        "  return J\n",
        "\n"
      ],
      "metadata": {
        "id": "Ci2PXCJK4SOt"
      },
      "execution_count": 128,
      "outputs": []
    },
    {
      "cell_type": "code",
      "source": [
        "def weight_bias_initialize(neurons_per_layer,init='Xavier'):\n",
        "\n",
        "  random.seed(123)\n",
        "  parameters={}\n",
        "\n",
        "  for i in range(1,len(neurons_per_layer)):\n",
        "    if init=='Xavier':\n",
        "      parameters['W_'+str(i)]=np.random.randn(neurons_per_layer[i],neurons_per_layer[i-1])*np.sqrt(2/(neurons_per_layer[i-1]+neurons_per_layer[i]))\n",
        "    \n",
        "    if init=='random':    ### Question: what does random mean here? random normal/uniform etc \n",
        "      pass\n",
        "  \n",
        "\n",
        "    \n",
        "    parameters['b_'+str(i)]=np.zeros((neurons_per_layer[i],1))\n",
        "  return parameters"
      ],
      "metadata": {
        "id": "YscO5LPRV2Vg"
      },
      "execution_count": 129,
      "outputs": []
    },
    {
      "cell_type": "code",
      "source": [
        "def forward_propagation(data,parameter,activation_function='sigmoid'):\n",
        "    \n",
        "    total_layers=len(parameter)//2+1\n",
        "\n",
        "    Activation = [None]*total_layers # activations\n",
        "    Pre_Activation = [None]*total_layers # pre-activations\n",
        "    \n",
        "    Activation[0] = data\n",
        "    \n",
        "    for layer in range(1, total_layers):\n",
        "        Weight = parameter[\"W_\"+str(layer)]\n",
        "        bias = parameter[\"b_\"+str(layer)]\n",
        "        \n",
        "        Pre_Activation[layer] = np.matmul(Weight,Activation[layer-1]) + bias\n",
        "        \n",
        "        if layer == total_layers-1:\n",
        "            Activation[layer] = softmax(Pre_Activation[layer]) # activation function for output layer\n",
        "        else:\n",
        "            if activation_function == 'sigmoid':\n",
        "                Activation[layer] = sigmoid(Pre_Activation[layer])\n",
        "            elif activation_function == 'relu':\n",
        "                Activation[layer] = relu(Pre_Activation[layer])\n",
        "            elif activation_function == 'tanh':\n",
        "                Activation[layer] = tanh(Pre_Activation[layer])\n",
        "            elif activation_function== 'identity':\n",
        "                Activation[layer] = identity(Pre_Activation[layer])\n",
        "                \n",
        "    y_pred = Activation[total_layers-1]\n",
        "\n",
        "    return y_pred,Activation,Pre_Activation\n",
        "    \n",
        "    \n",
        "\n",
        "\n"
      ],
      "metadata": {
        "id": "dH7TMvOUE93D"
      },
      "execution_count": 309,
      "outputs": []
    },
    {
      "cell_type": "code",
      "source": [
        "prem=weight_bias_initialize([784,10,20,10])"
      ],
      "metadata": {
        "id": "awbTMAbFvr9q"
      },
      "execution_count": 310,
      "outputs": []
    },
    {
      "cell_type": "code",
      "source": [
        "work=np.array([X_train[0],X_train[1]])"
      ],
      "metadata": {
        "id": "Sxma_Q8owMdG"
      },
      "execution_count": 315,
      "outputs": []
    },
    {
      "cell_type": "code",
      "source": [
        "output,_,_=forward_propagation(work.T,prem)"
      ],
      "metadata": {
        "id": "oyS-ToHQv6pH"
      },
      "execution_count": 317,
      "outputs": []
    },
    {
      "cell_type": "code",
      "source": [
        "output.shape"
      ],
      "metadata": {
        "id": "EXaQ3IfMy80g",
        "outputId": "efad75ca-3db5-4c13-ac0c-e3b683cd0c31",
        "colab": {
          "base_uri": "https://localhost:8080/"
        }
      },
      "execution_count": 318,
      "outputs": [
        {
          "output_type": "execute_result",
          "data": {
            "text/plain": [
              "(10, 2)"
            ]
          },
          "metadata": {},
          "execution_count": 318
        }
      ]
    },
    {
      "cell_type": "code",
      "source": [
        "work.shape"
      ],
      "metadata": {
        "colab": {
          "base_uri": "https://localhost:8080/"
        },
        "id": "9ChSyzC9xLwX",
        "outputId": "ddda6ad2-6048-4140-90d8-4d9ea8b1e009"
      },
      "execution_count": 316,
      "outputs": [
        {
          "output_type": "execute_result",
          "data": {
            "text/plain": [
              "(2, 784)"
            ]
          },
          "metadata": {},
          "execution_count": 316
        }
      ]
    },
    {
      "cell_type": "code",
      "source": [
        "X_train[0]"
      ],
      "metadata": {
        "colab": {
          "base_uri": "https://localhost:8080/"
        },
        "id": "0U7ceQRqwSA-",
        "outputId": "93591e8d-f504-44b4-f59e-073f456a46ac"
      },
      "execution_count": 305,
      "outputs": [
        {
          "output_type": "execute_result",
          "data": {
            "text/plain": [
              "array([0., 0., 0., ..., 0., 0., 0.])"
            ]
          },
          "metadata": {},
          "execution_count": 305
        }
      ]
    }
  ]
}